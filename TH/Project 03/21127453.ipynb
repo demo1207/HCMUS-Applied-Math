{
 "cells": [
  {
   "cell_type": "markdown",
   "metadata": {},
   "source": [
    "# <center>Đồ án 3: Linear Regression</center>"
   ]
  },
  {
   "cell_type": "markdown",
   "metadata": {},
   "source": [
    "# Thông tin sinh viên\n",
    "\n",
    "- Họ và tên: Hoàng Anh Trà\n",
    "- MSSV: 21127453\n",
    "- Lớp: 21CLC10"
   ]
  },
  {
   "cell_type": "markdown",
   "metadata": {},
   "source": [
    "# Import"
   ]
  },
  {
   "cell_type": "code",
   "execution_count": 109,
   "metadata": {},
   "outputs": [],
   "source": [
    "import pandas as pd\n",
    "import numpy as np\n",
    "\n",
    "# Import thêm dữ thư viện nếu cần\n",
    "import matplotlib.pyplot as plt"
   ]
  },
  {
   "cell_type": "markdown",
   "metadata": {},
   "source": [
    "# Đọc dữ liệu"
   ]
  },
  {
   "cell_type": "code",
   "execution_count": 110,
   "metadata": {},
   "outputs": [],
   "source": [
    "# Đọc dữ liệu bằng pandas\n",
    "train = pd.read_csv('train.csv')\n",
    "test = pd.read_csv('test.csv')\n",
    "\n",
    "# Lấy các đặc trưng X và giá trị mục tiêu y cho các tập huấn luyện (train) và kiểm tra (test)\n",
    "X_train = train.iloc[:, :-1]    # Dataframe (chứa các đặc trưng huấn luyện)\n",
    "y_train = train.iloc[:, -1]     # Series    (chứa 1 giá trị mục tiêu kiểm tra)\n",
    "\n",
    "X_test = test.iloc[:, :-1]      # Dataframe (chứa các đặc trưng kiểm tra)\n",
    "y_test = test.iloc[:, -1]       # Series    (chứa 1 giá trị mục tiêu kiểm tra)\n",
    "\n",
    "# Sinh viên có thể sử dụng các khác nếu cần"
   ]
  },
  {
   "cell_type": "markdown",
   "metadata": {},
   "source": [
    "# Cài đặt hàm"
   ]
  },
  {
   "cell_type": "code",
   "execution_count": 111,
   "metadata": {},
   "outputs": [],
   "source": [
    "# Cài đặt các hàm cần thiết ở đây\n",
    "\n",
    "# OLS từ Lab 04 cô Uyên\n",
    "class OLSLinearRegression:\n",
    "    def fit(self, X, y):\n",
    "        X_pinv = np.linalg.inv(X.T @ X) @ X.T    # np.linalg.pinv(X)\n",
    "        self.w = X_pinv @ y\n",
    "\n",
    "        return self\n",
    "\n",
    "\n",
    "    def get_params(self):\n",
    "        return self.w\n",
    "\n",
    "\n",
    "    def predict(self, X): # y_hat\n",
    "        return np.sum(self.w.ravel() * X, axis=1)   \n",
    "\n",
    "# MAE từ Lab04 cô Uyên nốt\n",
    "def mae(y, y_hat):\n",
    "    return np.mean(np.abs(y.ravel() - y_hat.ravel()))"
   ]
  },
  {
   "cell_type": "code",
   "execution_count": 112,
   "metadata": {},
   "outputs": [],
   "source": [
    "def KFoldCrossValidation(X, Y, k = 5, i = 0):\n",
    "    if (X.shape[0] == Y.shape[0]):\n",
    "        size = X.shape[0]\n",
    "    else:\n",
    "        return\n",
    "    \n",
    "    test_size = size // k\n",
    "    test_i = (i % k)*test_size\n",
    "    test_j = test_i + test_size\n",
    "    \n",
    "    X_test = X.copy().iloc[test_i: test_j, :]\n",
    "    y_test = Y.copy().iloc[test_i: test_j]\n",
    "    \n",
    "    X_train = X.copy().drop(range(test_i, test_j))\n",
    "    y_train = Y.copy().drop(range(test_i, test_j))\n",
    "    \n",
    "    return X_train, X_test, y_train, y_test"
   ]
  },
  {
   "cell_type": "markdown",
   "metadata": {},
   "source": [
    "# Yêu cầu 1a: Sử dụng toàn bộ 11 đặc trưng đầu tiên `Gender`, `10percentage`, `12percentage`, `CollegeTier`, `Degree`, `collegeGPA`, `CollegeCityTier`, `English`, `Logical`, `Quant`, `Domain` (2 điểm) "
   ]
  },
  {
   "cell_type": "code",
   "execution_count": 113,
   "metadata": {},
   "outputs": [
    {
     "data": {
      "text/plain": [
       "0    -22756.512821\n",
       "1       804.503156\n",
       "2      1294.654565\n",
       "3    -91781.897531\n",
       "4     23182.388679\n",
       "5      1437.548672\n",
       "6     -8570.661985\n",
       "7       147.858299\n",
       "8       152.888476\n",
       "9       117.221846\n",
       "10    34552.286221\n",
       "dtype: float64"
      ]
     },
     "execution_count": 113,
     "metadata": {},
     "output_type": "execute_result"
    }
   ],
   "source": [
    "# Phần code cho yêu cầu 1a\n",
    "\n",
    "# Trích 11 đặc trưng đầu tiên từ train và test\n",
    "X_train_1a = train.iloc[:, :11]\n",
    "X_test_1a = test.iloc[:, :11]\n",
    "\n",
    "# Huấn luyện 1 lần duy nhất cho X_train_1a\n",
    "model_1a = OLSLinearRegression().fit(X_train_1a, y_train)\n",
    "model_1a.get_params()\n"
   ]
  },
  {
   "cell_type": "code",
   "execution_count": 114,
   "metadata": {},
   "outputs": [
    {
     "name": "stdout",
     "output_type": "stream",
     "text": [
      "MAE:  104863.7775403321\n"
     ]
    }
   ],
   "source": [
    "# Gọi hàm MAE (tự cài đặt hoặc từ thư viện) trên tập kiểm tra\n",
    "y_hat_1a = model_1a.predict(X_test_1a)\n",
    "print(\"MAE: \", mae(y_test, y_hat_1a))"
   ]
  },
  {
   "cell_type": "markdown",
   "metadata": {},
   "source": [
    "Công thức hồi quy (phần trọng số làm tròn đến 3 chữ số thập phân, ví dụ 0.012345 $\\to$ 0.012)\n",
    "\n",
    "$\n",
    "\\text{Salary} = -22756.513X_1 + 804.503X_2 + 1294.655X_3 + (-91781.898)X_4 + 23182.389X_5 + 1437.549X_6 + (-8570.662)X_7 + 147.858X_8 + 152.888X_9 + 117.222X_{10} + 34552.286X_{11}\n",
    "$"
   ]
  },
  {
   "cell_type": "markdown",
   "metadata": {},
   "source": [
    "# Yêu cầu 1b: Xây dựng mô hình sử dụng duy nhất 1 đặc trưng tính cách với các đặc trưng tính cách gồm `conscientiousness`, `agreeableness`, `extraversion`, `nueroticism`, `openess_to_experience`, tìm mô hình cho kết quả tốt nhất (1 điểm)"
   ]
  },
  {
   "cell_type": "markdown",
   "metadata": {},
   "source": [
    "Lưu ý: khi sử dụng cross-validation, sinh viên cần xáo trộn dữ liệu 1 lần duy nhất và thực hiện trên toàn bộ đặc trưng"
   ]
  },
  {
   "cell_type": "code",
   "execution_count": 115,
   "metadata": {},
   "outputs": [
    {
     "name": "stdout",
     "output_type": "stream",
     "text": [
      "The best feature is: nueroticism with k = 10\n"
     ]
    },
    {
     "data": {
      "text/html": [
       "<div>\n",
       "<style scoped>\n",
       "    .dataframe tbody tr th:only-of-type {\n",
       "        vertical-align: middle;\n",
       "    }\n",
       "\n",
       "    .dataframe tbody tr th {\n",
       "        vertical-align: top;\n",
       "    }\n",
       "\n",
       "    .dataframe thead th {\n",
       "        text-align: right;\n",
       "    }\n",
       "</style>\n",
       "<table border=\"1\" class=\"dataframe\">\n",
       "  <thead>\n",
       "    <tr style=\"text-align: right;\">\n",
       "      <th></th>\n",
       "      <th>Feature</th>\n",
       "      <th>MAE</th>\n",
       "    </tr>\n",
       "  </thead>\n",
       "  <tbody>\n",
       "    <tr>\n",
       "      <th>0</th>\n",
       "      <td>conscientiousness</td>\n",
       "      <td>306195.166397</td>\n",
       "    </tr>\n",
       "    <tr>\n",
       "      <th>1</th>\n",
       "      <td>agreeableness</td>\n",
       "      <td>300870.326218</td>\n",
       "    </tr>\n",
       "    <tr>\n",
       "      <th>2</th>\n",
       "      <td>extraversion</td>\n",
       "      <td>307089.059148</td>\n",
       "    </tr>\n",
       "    <tr>\n",
       "      <th>3</th>\n",
       "      <td>nueroticism</td>\n",
       "      <td>299202.865669</td>\n",
       "    </tr>\n",
       "    <tr>\n",
       "      <th>4</th>\n",
       "      <td>openess_to_experience</td>\n",
       "      <td>302894.054103</td>\n",
       "    </tr>\n",
       "  </tbody>\n",
       "</table>\n",
       "</div>"
      ],
      "text/plain": [
       "                 Feature            MAE\n",
       "0      conscientiousness  306195.166397\n",
       "1          agreeableness  300870.326218\n",
       "2           extraversion  307089.059148\n",
       "3            nueroticism  299202.865669\n",
       "4  openess_to_experience  302894.054103"
      ]
     },
     "execution_count": 115,
     "metadata": {},
     "output_type": "execute_result"
    }
   ],
   "source": [
    "# Phần code cho yêu cầu 1b\n",
    "\n",
    "# Xáo trộn các hàng với nhau 1 lần duy nhất\n",
    "# https://hanghieugiatot.com/huong-dan-dung-pandas-shuffle-python\n",
    "train_shuffle = train.sample(frac=1).reset_index(drop=True)\n",
    "\n",
    "# Tiếp tục trích dữ liệu\n",
    "X_train_1b = train_shuffle.iloc[:, 18:23]\n",
    "y_train_1b = train_shuffle.iloc[:, -1]  \n",
    "\n",
    "X_test_1b = test.iloc[:, 18:23]\n",
    "\n",
    "# Tìm ra đặc trưng tốt nhất\n",
    "# In ra các kết quả cross-validation như yêu cầu\n",
    "# Tham khảo từ: https://github.com/NgocTien0110/Applied-Mathematics-and-Statistics\n",
    "feature = X_train_1b.columns.values\n",
    "maes = []\n",
    "k = 10\n",
    "for label in feature:\n",
    "    x_train_this = pd.Series.to_frame(X_train_1b[label]).copy()\n",
    "    y_train_this = y_train_1b.copy()\n",
    "    # https://v1study.com/python-tham-khao-tach-tap-du-lieu-cua-ban-voi-train_test_split-cua-scikit-learning.html\n",
    "    # https://scikit-learn.org/stable/modules/cross_validation.html\n",
    "    MAE = 0\n",
    "    for i in range(k):\n",
    "        train_X, test_X, train_y, test_y = KFoldCrossValidation(x_train_this, y_train_this, k, i)\n",
    "        lr = OLSLinearRegression()\n",
    "        lr.fit(train_X, train_y)\n",
    "        MAE += mae(test_y, lr.predict(test_X))\n",
    "    maes.append([label, MAE/k])\n",
    "\n",
    "\n",
    "best_mae = sorted(maes, key=lambda x: x[1])[0]\n",
    "print('The best feature is:', best_mae[0], \"with k =\", k)\n",
    "\n",
    "report = pd.DataFrame(maes, columns=['Feature', 'MAE'])\n",
    "report"
   ]
  },
  {
   "cell_type": "code",
   "execution_count": 116,
   "metadata": {},
   "outputs": [
    {
     "data": {
      "text/plain": [
       "array([-56546.30375318])"
      ]
     },
     "execution_count": 116,
     "metadata": {},
     "output_type": "execute_result"
    }
   ],
   "source": [
    "# Huấn luyện lại mô hình best_personality_feature_model với đặc trưng tốt nhất trên toàn bộ tập huấn luyện\n",
    "best_personality_feature_model = OLSLinearRegression().fit(X_train_1b[best_mae[0]].values.reshape(-1, 1), y_train_1b)\n",
    "best_personality_feature_model.get_params()"
   ]
  },
  {
   "cell_type": "code",
   "execution_count": 117,
   "metadata": {},
   "outputs": [
    {
     "name": "stdout",
     "output_type": "stream",
     "text": [
      "MAE: 291019.693226953\n"
     ]
    }
   ],
   "source": [
    "# Gọi hàm MAE (tự cài đặt hoặc từ thư viện) trên tập kiểm tra với mô hình best_personality_feature_model\n",
    "y_hat_best = best_personality_feature_model.predict(X_test_1b[best_mae[0]].values.reshape(-1, 1))\n",
    "print('MAE:', mae(y_test, y_hat_best))"
   ]
  },
  {
   "cell_type": "markdown",
   "metadata": {},
   "source": [
    "Công thức hồi quy (phần trọng số làm tròn đến 3 chữ số thập phân, ví dụ 0.012345 $\\to$ 0.012)\n",
    "\n",
    "$$\\text{Salary} = -56546.304 \\times nueroticism$$"
   ]
  },
  {
   "cell_type": "markdown",
   "metadata": {},
   "source": [
    "# Yêu cầu 1c: Xây dựng mô hình sử dụng duy nhất 1 đặc trưng `English`, `Logical`, `Quant`, tìm mô hình cho kết quả tốt nhất (1 điểm)"
   ]
  },
  {
   "cell_type": "markdown",
   "metadata": {},
   "source": [
    "Lưu ý: khi sử dụng cross-validation, sinh viên cần xáo trộn dữ liệu 1 lần duy nhất và thực hiện trên toàn bộ đặc trưng"
   ]
  },
  {
   "cell_type": "code",
   "execution_count": 118,
   "metadata": {},
   "outputs": [
    {
     "name": "stdout",
     "output_type": "stream",
     "text": [
      "The best feature is: Quant with k = 10\n"
     ]
    },
    {
     "data": {
      "text/html": [
       "<div>\n",
       "<style scoped>\n",
       "    .dataframe tbody tr th:only-of-type {\n",
       "        vertical-align: middle;\n",
       "    }\n",
       "\n",
       "    .dataframe tbody tr th {\n",
       "        vertical-align: top;\n",
       "    }\n",
       "\n",
       "    .dataframe thead th {\n",
       "        text-align: right;\n",
       "    }\n",
       "</style>\n",
       "<table border=\"1\" class=\"dataframe\">\n",
       "  <thead>\n",
       "    <tr style=\"text-align: right;\">\n",
       "      <th></th>\n",
       "      <th>Feature</th>\n",
       "      <th>MAE</th>\n",
       "    </tr>\n",
       "  </thead>\n",
       "  <tbody>\n",
       "    <tr>\n",
       "      <th>0</th>\n",
       "      <td>English</td>\n",
       "      <td>122171.631729</td>\n",
       "    </tr>\n",
       "    <tr>\n",
       "      <th>1</th>\n",
       "      <td>Logical</td>\n",
       "      <td>120484.287774</td>\n",
       "    </tr>\n",
       "    <tr>\n",
       "      <th>2</th>\n",
       "      <td>Quant</td>\n",
       "      <td>118296.723714</td>\n",
       "    </tr>\n",
       "  </tbody>\n",
       "</table>\n",
       "</div>"
      ],
      "text/plain": [
       "   Feature            MAE\n",
       "0  English  122171.631729\n",
       "1  Logical  120484.287774\n",
       "2    Quant  118296.723714"
      ]
     },
     "execution_count": 118,
     "metadata": {},
     "output_type": "execute_result"
    }
   ],
   "source": [
    "# Phần code cho yêu cầu 1c\n",
    "# Tìm ra đặc trưng tốt nhất\n",
    "# In ra các kết quả cross-validation như yêu cầu\n",
    "\n",
    "# Xáo trộn các hàng với nhau 1 lần duy nhất\n",
    "# https://hanghieugiatot.com/huong-dan-dung-pandas-shuffle-python\n",
    "train_shuffle = train.sample(frac=1).reset_index(drop=True)\n",
    "\n",
    "# Tiếp tục trích dữ liệu\n",
    "X_train_1c = train_shuffle.iloc[:, 7:10]\n",
    "y_train_1c = train_shuffle.iloc[:, -1]  \n",
    "\n",
    "X_test_1c = test.iloc[:, 7:10]\n",
    "\n",
    "# Tìm ra đặc trưng tốt nhất\n",
    "# In ra các kết quả cross-validation như yêu cầu\n",
    "feature = X_train_1c.columns.values\n",
    "maes = []\n",
    "k = 10\n",
    "for label in feature:\n",
    "    x_train_this = pd.Series.to_frame(X_train_1c[label]).copy()\n",
    "    y_train_this = y_train_1c.copy()\n",
    "    MAE = 0\n",
    "    for i in range(k):\n",
    "        train_X, test_X, train_y, test_y = KFoldCrossValidation(x_train_this, y_train_this, k, i)\n",
    "        lr = OLSLinearRegression()\n",
    "        lr.fit(train_X, train_y)\n",
    "        MAE += mae(test_y, lr.predict(test_X))\n",
    "    maes.append([label, MAE/k])\n",
    "\n",
    "\n",
    "best_mae = sorted(maes, key=lambda x: x[1])[0]\n",
    "print('The best feature is:', best_mae[0], \"with k =\", k)\n",
    "\n",
    "report = pd.DataFrame(maes, columns=['Feature', 'MAE'])\n",
    "report"
   ]
  },
  {
   "cell_type": "code",
   "execution_count": 119,
   "metadata": {},
   "outputs": [
    {
     "data": {
      "text/plain": [
       "array([585.89538084])"
      ]
     },
     "execution_count": 119,
     "metadata": {},
     "output_type": "execute_result"
    }
   ],
   "source": [
    "# Huấn luyện lại mô hình best_skill_feature_model với đặc trưng tốt nhất trên toàn bộ tập huấn luyện\n",
    "best_skill_feature_model = OLSLinearRegression().fit(X_train_1c[best_mae[0]].values.reshape(-1, 1), y_train_1c)\n",
    "best_skill_feature_model.get_params()"
   ]
  },
  {
   "cell_type": "code",
   "execution_count": 120,
   "metadata": {},
   "outputs": [
    {
     "name": "stdout",
     "output_type": "stream",
     "text": [
      "MAE: 106819.5776198967\n"
     ]
    }
   ],
   "source": [
    "# Gọi hàm MAE (tự cài đặt hoặc từ thư viện) trên tập kiểm tra với mô hình best_skill_feature_model\n",
    "y_hat_best = best_skill_feature_model.predict(X_test_1c[best_mae[0]].values.reshape(-1, 1))\n",
    "print('MAE:', mae(y_test, y_hat_best))"
   ]
  },
  {
   "cell_type": "markdown",
   "metadata": {},
   "source": [
    "Công thức hồi quy (phần trọng số làm tròn đến 3 chữ số thập phân, ví dụ 0.012345 $\\to$ 0.012)\n",
    "\n",
    "$$\\text{Salary} = 585.895 \\times Quant$$"
   ]
  },
  {
   "cell_type": "markdown",
   "metadata": {},
   "source": [
    "# Yêu cầu 1d: Sinh viên tự xây dựng mô hình, tìm mô hình cho kết quả tốt nhất (3 điểm)"
   ]
  },
  {
   "cell_type": "markdown",
   "metadata": {},
   "source": [
    "Lưu ý: khi sử dụng cross-validation, sinh viên cần xáo trộn dữ liệu 1 lần duy nhất và thực hiện trên toàn bộ $m$ mô hình mà sinh viên thiết kế"
   ]
  },
  {
   "cell_type": "markdown",
   "metadata": {},
   "source": [
    "## Tìm mô hình"
   ]
  },
  {
   "cell_type": "code",
   "execution_count": 121,
   "metadata": {},
   "outputs": [
    {
     "name": "stdout",
     "output_type": "stream",
     "text": [
      "10percentage:\n"
     ]
    },
    {
     "data": {
      "image/png": "[encoded data removed]",
      "text/plain": [
       "<Figure size 640x480 with 1 Axes>"
      ]
     },
     "metadata": {},
     "output_type": "display_data"
    },
    {
     "name": "stdout",
     "output_type": "stream",
     "text": [
      "12percentage:\n"
     ]
    },
    {
     "data": {
      "image/png": "[encoded data removed]",
      "text/plain": [
       "<Figure size 640x480 with 1 Axes>"
      ]
     },
     "metadata": {},
     "output_type": "display_data"
    },
    {
     "name": "stdout",
     "output_type": "stream",
     "text": [
      "CollegeTier:\n"
     ]
    },
    {
     "data": {
      "image/png": "[encoded data removed]",
      "text/plain": [
       "<Figure size 640x480 with 1 Axes>"
      ]
     },
     "metadata": {},
     "output_type": "display_data"
    },
    {
     "name": "stdout",
     "output_type": "stream",
     "text": [
      "Degree:\n"
     ]
    },
    {
     "data": {
      "image/png": "[encoded data removed]",
      "text/plain": [
       "<Figure size 640x480 with 1 Axes>"
      ]
     },
     "metadata": {},
     "output_type": "display_data"
    },
    {
     "name": "stdout",
     "output_type": "stream",
     "text": [
      "collegeGPA:\n"
     ]
    },
    {
     "data": {
      "image/png": "[encoded data removed]",
      "text/plain": [
       "<Figure size 640x480 with 1 Axes>"
      ]
     },
     "metadata": {},
     "output_type": "display_data"
    }
   ],
   "source": [
    "# Trình bày các phần tìm ra mô hình\n",
    "\n",
    "# Sử dụng matplotlib xây dựng biểu đồ phân bố để đánh giá cụ thể\n",
    "label = list(train.columns)\n",
    "for i in range(1, 6):\n",
    "    X, y = X_train.to_numpy()[:, i].reshape(-1,1), y_train.to_numpy().reshape(-1,1)\n",
    "    print(f'{label[i]}:')\n",
    "    \n",
    "    plt.scatter(X, y, color='r', marker='.')\n",
    "    \n",
    "    plt.xlabel(f'{label[i]}')\n",
    "    plt.ylabel('Salary')\n",
    "  \n",
    "    plt.grid()\n",
    "    plt.show()"
   ]
  },
  {
   "cell_type": "markdown",
   "metadata": {},
   "source": [
    "### Mô hình đầu tiên\n",
    "\n",
    "Ý tưởng chính: Phân tích và đánh giá sức ảnh hưởng của Tổng điểm đạt được trong kỳ thi lớp 10, lớp 12 tới Salary. \n",
    "\n",
    "$$ Salary = a \\times 10percentage + b \\times 12percentage $$\n",
    "\n",
    "### Mô hình thứ 2\n",
    "\n",
    "Ý tưởng chính: Phân tích và đánh giá sức ảnh hưởng của GPA tại thời điểm tốt nghiệp và Loại bằng cấp đã đạt tới Salary. \n",
    "\n",
    "$$ Salary = a \\times College GPA \\times Degree $$\n",
    "\n",
    "### Mô hình thứ 3\n",
    "Dựa vào các biểu đồ điểm số trong kỳ thi lớp 10, 12 và GPA tốt nghiệp ở trên khá tương đương nhau giống như ở trên nhưng kèm theo các tiêu chí phụ như loại bằng, hạng của trường mà ứng viên đó đã theo học.\n",
    "\n",
    "Ý tưởng chính: Phân tích và đánh giá sức ảnh hưởng của Tổng điểm đạt được trong kỳ thi lớp 10, lớp 12, GPA tại thời điểm tốt nghiệp và Loại bằng cấp đã đạt, hạng của trường tới Salary. \n",
    "\n",
    "$$ Salary = a \\times 10percentage^2 + b \\times 12percentage^2 + c \\times (\\frac{College GPA \\times Degree}{College Tier})^2 $$\n"
   ]
  },
  {
   "cell_type": "code",
   "execution_count": 122,
   "metadata": {},
   "outputs": [],
   "source": [
    "def preprocess_2(main_df):\n",
    "    X_train_2 = main_df.iloc[:, [5]]\n",
    "    df = main_df.iloc[:, [4]].astype('float64')\n",
    "    \n",
    "    mult = lambda s1, s2: s1@s2 if s1.sum() != s2.sum() else s1\n",
    "\n",
    "    X_train_2.combine(df, mult)\n",
    "    \n",
    "    return X_train_2\n",
    "\n",
    "def preprocess_3(main_df):\n",
    "    X_train_3 = main_df.iloc[:, [1, 2, 5]]\n",
    "    df = main_df.iloc[:, [1, 2, 4]].astype('float64')\n",
    "    df2 = main_df.iloc[:, [1, 2, 3]].astype('float64').pow([1, 1, -1])\n",
    "    \n",
    "    mult = lambda s1, s2: s1@s2 if s1.sum() != s2.sum() else s1\n",
    "\n",
    "    X_train_3.combine(df, mult)\n",
    "    X_train_3.combine(df2, mult)\n",
    "    \n",
    "    return X_train_3.pow([2, 2, 2])"
   ]
  },
  {
   "cell_type": "code",
   "execution_count": 123,
   "metadata": {},
   "outputs": [],
   "source": [
    "# xáo trộn dữ liệu 1 lần duy nhất\n",
    "train_shuffle = train.sample(frac=1).reset_index(drop=True)\n",
    "\n",
    "X_train_1d = []\n",
    "X_test_1d = []\n",
    "y_train_1d = train_shuffle.iloc[:, -1]\n",
    "\n",
    "# Mô hình 1\n",
    "X_train_1d.append(train_shuffle.iloc[:, [1, 2]])\n",
    "X_test_1d.append(test.iloc[:, [1, 2]])\n",
    "\n",
    "# Mô hình 2\n",
    "X_test_1d.append(preprocess_2(test))\n",
    "X_train_1d.append(preprocess_2(train_shuffle))\n",
    "\n",
    "# Mô hình 3\n",
    "X_test_1d.append(preprocess_3(test))\n",
    "X_train_1d.append(preprocess_3(train_shuffle))\n"
   ]
  },
  {
   "cell_type": "markdown",
   "metadata": {},
   "source": [
    "## Thử nghiệm, so sánh các mô hình"
   ]
  },
  {
   "cell_type": "code",
   "execution_count": 124,
   "metadata": {},
   "outputs": [
    {
     "name": "stdout",
     "output_type": "stream",
     "text": [
      "The best model is: Third Model\n"
     ]
    },
    {
     "data": {
      "text/html": [
       "<div>\n",
       "<style scoped>\n",
       "    .dataframe tbody tr th:only-of-type {\n",
       "        vertical-align: middle;\n",
       "    }\n",
       "\n",
       "    .dataframe tbody tr th {\n",
       "        vertical-align: top;\n",
       "    }\n",
       "\n",
       "    .dataframe thead th {\n",
       "        text-align: right;\n",
       "    }\n",
       "</style>\n",
       "<table border=\"1\" class=\"dataframe\">\n",
       "  <thead>\n",
       "    <tr style=\"text-align: right;\">\n",
       "      <th></th>\n",
       "      <th>MAE</th>\n",
       "    </tr>\n",
       "  </thead>\n",
       "  <tbody>\n",
       "    <tr>\n",
       "      <th>First Model</th>\n",
       "      <td>139565.103851</td>\n",
       "    </tr>\n",
       "    <tr>\n",
       "      <th>Second Model</th>\n",
       "      <td>121272.874052</td>\n",
       "    </tr>\n",
       "    <tr>\n",
       "      <th>Third Model</th>\n",
       "      <td>112752.961711</td>\n",
       "    </tr>\n",
       "  </tbody>\n",
       "</table>\n",
       "</div>"
      ],
      "text/plain": [
       "                        MAE\n",
       "First Model   139565.103851\n",
       "Second Model  121272.874052\n",
       "Third Model   112752.961711"
      ]
     },
     "execution_count": 124,
     "metadata": {},
     "output_type": "execute_result"
    }
   ],
   "source": [
    "# Phần code cho yêu cầu 1d\n",
    "# Tìm ra mô hình tốt nhất (tự thiết kế bởi sinh viên)\n",
    "# In ra các kết quả cross-validation như yêu cầu\n",
    "\n",
    "# MAE\n",
    "list_mae = []\n",
    "label = [\"First Model\", \"Second Model\", \"Third Model\"]\n",
    "k = 5\n",
    "for i in range(3):\n",
    "    MAE = 0\n",
    "    for j in range(k):\n",
    "        train_X, test_X, train_y, test_y = KFoldCrossValidation(X_train_1d[i], y_train_1d, k, i)\n",
    "        lr = OLSLinearRegression()\n",
    "        lr.fit(train_X, train_y)\n",
    "        MAE += mae(test_y, lr.predict(test_X))\n",
    "    list_mae.append(MAE/k)\n",
    "\n",
    "best_idx = list_mae.index(min(list_mae))\n",
    "print('The best model is:', label[best_idx])\n",
    "report = pd.Series(list_mae, index=label).to_frame(name=\"MAE\")\n",
    "report\n"
   ]
  },
  {
   "cell_type": "code",
   "execution_count": 125,
   "metadata": {},
   "outputs": [
    {
     "data": {
      "text/plain": [
       "0    19.116581\n",
       "1     9.032530\n",
       "2    26.315431\n",
       "dtype: float64"
      ]
     },
     "execution_count": 125,
     "metadata": {},
     "output_type": "execute_result"
    }
   ],
   "source": [
    "# Huấn luyện lại mô hình my_best_model trên toàn bộ tập huấn luyện\n",
    "my_best_model = OLSLinearRegression().fit(X_train_1d[best_idx], y_train_1d)\n",
    "my_best_model.get_params()"
   ]
  },
  {
   "cell_type": "code",
   "execution_count": 126,
   "metadata": {},
   "outputs": [
    {
     "name": "stdout",
     "output_type": "stream",
     "text": [
      "MAE: 108453.7229204965\n"
     ]
    }
   ],
   "source": [
    "# Gọi hàm MAE (tự cài đặt hoặc từ thư viện) trên tập kiểm tra với mô hình my_best_model\n",
    "y_hat_best = my_best_model.predict(X_test_1d[best_idx])\n",
    "print('MAE:', mae(y_test, y_hat_best))"
   ]
  },
  {
   "cell_type": "markdown",
   "metadata": {},
   "source": [
    "Công thức hồi quy (phần trọng số làm tròn đến 3 chữ số thập phân, ví dụ 0.012345 $\\to$ 0.012)\n",
    "\n",
    "$$ Salary = 19.117 \\times 10percentage^2 + 9.033 \\times 12percentage^2 + 26.315 \\times (\\frac{College GPA \\times Degree}{College Tier})^2 $$"
   ]
  }
 ],
 "metadata": {
  "kernelspec": {
   "display_name": "Python 3.8.5 ('base')",
   "language": "python",
   "name": "python3"
  },
  "language_info": {
   "codemirror_mode": {
    "name": "ipython",
    "version": 3
   },
   "file_extension": ".py",
   "mimetype": "text/x-python",
   "name": "python",
   "nbconvert_exporter": "python",
   "pygments_lexer": "ipython3",
   "version": "3.11.3"
  },
  "orig_nbformat": 4,
  "vscode": {
   "interpreter": {
    "hash": "15af99fd1a1a3f0a3416ea421564e792a8676a13670c2eed127d89ab0518a27b"
   }
  }
 },
 "nbformat": 4,
 "nbformat_minor": 2
}
