{
 "cells": [
  {
   "attachments": {},
   "cell_type": "markdown",
   "metadata": {},
   "source": [
    "Parabol cần tìm là:\n",
    "$$\n",
    "y = \\frac{-19}{30}x^2 + \\frac{31}{20}x + \\frac{18}{5}\n",
    "$$"
   ]
  },
  {
   "cell_type": "code",
   "execution_count": 4,
   "metadata": {},
   "outputs": [],
   "source": [
    "import numpy as np\n",
    "import sympy as sp\n",
    "import matplotlib.pyplot as plt"
   ]
  },
  {
   "cell_type": "code",
   "execution_count": 5,
   "metadata": {},
   "outputs": [
    {
     "data": {
      "image/png": "[encoded data removed]",
      "text/plain": [
       "<Figure size 640x480 with 1 Axes>"
      ]
     },
     "metadata": {},
     "output_type": "display_data"
    }
   ],
   "source": [
    "x = np.linspace(-3, 4, 100)\n",
    "a, b, c = -19/30, 31/30, 18/5\n",
    "\n",
    "y = a*x**2 + b*x + c\n",
    "plt.plot(x, y)\n",
    "plt.scatter([-2, 1, 3], [-1, 4, 1], color = \"red\")\n",
    "plt.show()"
   ]
  },
  {
   "cell_type": "code",
   "execution_count": 6,
   "metadata": {},
   "outputs": [
    {
     "name": "stdout",
     "output_type": "stream",
     "text": [
      "(0.7798934003768229, 8.658556098515544e-15)\n"
     ]
    }
   ],
   "source": [
    "import math\n",
    "from scipy import integrate\n",
    "\n",
    "f = lambda x: math.cos(math.pi*x**2/2) \n",
    "result = integrate.quad(f, 0, 1) \n",
    "print(result)"
   ]
  },
  {
   "attachments": {},
   "cell_type": "markdown",
   "metadata": {},
   "source": [
    "Tính:\n",
    "$$\n",
    "\\int\\limits_0^1cos(\\frac{\\pi}{2}x^2) \\mathrm{d}x\n",
    "$$\n",
    "---\n",
    "Đặt:\n",
    "$$\n",
    "b = 1 \\\\\n",
    "f(x) = cos(\\frac{\\pi}{2}x^2) \\geq 0 \\ \\forall x \\in [0, b]\n",
    "$$\n",
    "Chia khoảng [0, 1] ra thành n khoảng bằng nhau được n+1 hoành độ:\n",
    "$$\n",
    "x_0 = 0, x_1 = \\frac{b}{n}, x_2 = \\frac{2b}{n}, ... , x_n = b\n",
    "$$\n",
    "Từ đó có n+1 điểm:\n",
    "$$\n",
    "A_0 = (x_0, f(x_0)), A_1 = (x_1, f(x_1)), ... , A_n = (x_n, f(x_n))\n",
    "$$\n",
    "Qua n+1 điểm này, chỉ có duy nhất một đa thức bậc n:\n",
    "$$\n",
    "P(x) = a_0 + a_{1}x + a_{2}x^2 + ... + a_{n}x^n\n",
    "$$\n",
    "\n",
    "Mặt khác, P(x) đi qua các điểm A<sub>0</sub>, A<sub>1</sub>, ..., A<sub>n</sub>\n",
    "\n",
    "Nên ta có hệ phương trình:\n",
    "\n",
    "$$\n",
    "\\left\\{\\begin{matrix}\n",
    "a_0 + a_{1}x_0 + a_{2}{x_0}^2 + ... + a_{n}{x_0}^n = f(x_0)\n",
    "\\\\ a_0 + a_{1}x_1 + a_{2}{x_1}^2 + ... + a_{n}{x_1}^n = f(x_1)\n",
    "\\\\ ... \n",
    "\\\\ a_0 + a_{1}x_n + a_{2}{x_n}^2 + ... + a_{n}{x_n}^n = f(x_n)\n",
    "\\end{matrix}\\right.\n",
    "\\Leftrightarrow\n",
    "\\left\\{\\begin{matrix}\n",
    "a_0 + a_{1}.0 + a_{2}.{0}^2 + ... + a_{n}.{0}^n = f(0)\n",
    "\\\\ a_0 + a_{1}.\\frac{b}{n} + a_{2}.{(\\frac{b}{n})}^2 + ... + a_{n}.{(\\frac{b}{n})}^n = f(\\frac{b}{n})\n",
    "\\\\ ... \n",
    "\\\\ a_0 + a_{1}.b + a_{2}{b}^2 + ... + a_{n}{b}^n = f(b)\n",
    "\\end{matrix}\\right.\n",
    "$$\n",
    "Lập ma trận mở rộng:\n",
    "\n",
    "$$\n",
    "\n",
    "\\begin{bmatrix}\n",
    "1 &0^1  &0^2  &...  &0^i  &...  &0^n  &f(0) \\\\ \n",
    "1 &\\frac{b}{n}  &{(\\frac{b}{n})}^2  &...  &{(\\frac{1.b}{n})}^i  &...  &{(\\frac{b}{n})}^n  &f(\\frac{b}{n}) \\\\ \n",
    "... &...  &...  &...  &...  &...  &...  &... \\\\ \n",
    "1 &\\frac{k.b}{n}  &{(\\frac{k.b}{n})}^2  &...  &{(\\frac{k.b}{n})}^i  &...  &{(\\frac{k.b}{n})}^n  &f(\\frac{k.b}{n}) \\\\ \n",
    "... &...  &...  &...  &...  &...  &...  &... \\\\ \n",
    "1 &b  &b^2  &...  &b^i  &...  &b^n  &f(b) \n",
    "\\end{bmatrix}\n",
    "$$\n",
    "\n",
    "Với\n",
    "$$\n",
    "b = 1 \\\\\n",
    "f(x) = cos(\\frac{\\pi}{2}x^2)\n",
    "$$\n",
    "Ma trận trở thành: \n",
    "$$\n",
    "\\begin{bmatrix}\n",
    "1 &0  &0  &...  &{(\\frac{0}{n})}^i  &...  &0  &f(0) \\\\ \n",
    "1 &\\frac{1}{n}  &{(\\frac{1}{n})}^2  &...  &{(\\frac{1}{n})}^i  &...  &{(\\frac{1}{n})}^n  &f(\\frac{1}{n}) \\\\ \n",
    "... &...  &...  &...  &...  &...  &...  &... \\\\ \n",
    "1 &\\frac{k}{n}  &{(\\frac{k}{n})}^2  &...  &{(\\frac{k}{n})}^i  &...  &{(\\frac{k}{n})}^n  &f(\\frac{k}{n}) \\\\ \n",
    "... &...  &...  &...  &...  &...  &...  &... \\\\ \n",
    "1 &1  &1^2  &...  &1^i  &...  &1^n  &f(1) \n",
    "\\end{bmatrix}\n",
    "$$\n",
    "\n",
    "Giải hệ phương trình tuyến tính, ta được nghiệm duy nhất:\n",
    "\n",
    "$$\n",
    "[a_0, a_1, a_2, ..., a_n] = \n",
    "$$\n"
   ]
  },
  {
   "cell_type": "code",
   "execution_count": 7,
   "metadata": {},
   "outputs": [
    {
     "name": "stdout",
     "output_type": "stream",
     "text": [
      "[ 0.  1. -0. -0. -0. -0. -0.  0. -0.  0.  0. -0.  0. -0. -0. -0. -0.  0.\n",
      " -0.  0. -0.] với n = 20\n"
     ]
    }
   ],
   "source": [
    "import math\n",
    "import numpy as np\n",
    "\n",
    "f = lambda x: x\n",
    "b = 1\n",
    "n = 20\n",
    "\n",
    "# Ma trận hóa hệ phương trình (Lập ma trận mở rộng)\n",
    "\n",
    "# k: 0 -> n\n",
    "# x_n(k) = k*b/n\n",
    "\n",
    "def generateRowIndex(k: int):\n",
    "  rt = []\n",
    "  for i in range(n+1):\n",
    "    rt.append((k*b/n)**i)\n",
    "  return rt\n",
    "  \n",
    "def generateMatIndex():\n",
    "  rt = []\n",
    "  for k in range(n+1):\n",
    "    rt.append(generateRowIndex(k))\n",
    "  return rt\n",
    "\n",
    "\n",
    "def generateOrdVal():\n",
    "  rt = []\n",
    "  for i in range(n+1):\n",
    "    rt.append(f(i*b/n))\n",
    "  return rt\n",
    "  \n",
    "mat = generateMatIndex()\n",
    "ordVal = generateOrdVal()\n",
    "I = np.array(mat)\n",
    "J = np.array(ordVal)\n",
    "\n",
    "# Giải ma trận\n",
    "\n",
    "a_i = np.linalg.solve(I, J)\n",
    "\n",
    "print(a_i, \"với n =\", n)"
   ]
  },
  {
   "attachments": {},
   "cell_type": "markdown",
   "metadata": {},
   "source": [
    "Bấy giờ:\n",
    "$$\n",
    "I = \\int\\limits_0^bf(x) \\mathrm{d}x \\approx \\int\\limits_0^bP(x) \\mathrm{d}x\n",
    "\\\\ = \\int\\limits_0^b a_0 + a_{1}x + a_{2}x^2 + ... + a_{n}x^n \\mathrm{d}x \n",
    "\\\\ = \\Big(a_0x + \\frac {a_{1}x^2}{2} + \\frac {a_{2}x^3}{3} + ... + \\frac {a_{n}x^{n+1}}{n+1} \\Big) \\Big|_0^b\n",
    "\\\\ = a_0b + \\frac {a_{1}b^2}{2} + \\frac {a_{2}b^3}{3} + ... + \\frac {a_{n}b^{n+1}}{n+1} (*)\n",
    "$$\n",
    "Với b = 1 thì:\n",
    "$$\n",
    "I = a_0 + \\frac {a_{1}}{2} + \\frac {a_{2}}{3} + ... + \\frac {a_{n}}{n+1}\n",
    "$$"
   ]
  },
  {
   "cell_type": "code",
   "execution_count": 8,
   "metadata": {},
   "outputs": [
    {
     "name": "stdout",
     "output_type": "stream",
     "text": [
      "Thay b = 1 , khi đó I = 0.5\n"
     ]
    }
   ],
   "source": [
    "# Tính tích phân\n",
    "result = 0\n",
    "\n",
    "for i in range(n+1):\n",
    "  result = result + a_i[i]*(b**(i+1))/(i+1)\n",
    "\n",
    "print(\"Thay b =\", b, \", khi đó I =\", result)\n"
   ]
  },
  {
   "cell_type": "code",
   "execution_count": 9,
   "metadata": {},
   "outputs": [
    {
     "name": "stdout",
     "output_type": "stream",
     "text": [
      "0.6366197723675814\n"
     ]
    }
   ],
   "source": [
    "print(2/math.pi)"
   ]
  }
 ],
 "metadata": {
  "kernelspec": {
   "display_name": "Python 3",
   "language": "python",
   "name": "python3"
  },
  "language_info": {
   "codemirror_mode": {
    "name": "ipython",
    "version": 3
   },
   "file_extension": ".py",
   "mimetype": "text/x-python",
   "name": "python",
   "nbconvert_exporter": "python",
   "pygments_lexer": "ipython3",
   "version": "3.11.3"
  },
  "orig_nbformat": 4
 },
 "nbformat": 4,
 "nbformat_minor": 2
}
